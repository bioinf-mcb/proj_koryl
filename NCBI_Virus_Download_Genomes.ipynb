{
 "cells": [
  {
   "cell_type": "markdown",
   "id": "7d5fd33b",
   "metadata": {},
   "source": [
    "# Download Bacteriophages genomes from FTP site with Accession from NCBI Virus"
   ]
  },
  {
   "cell_type": "code",
   "execution_count": 69,
   "id": "c935fa92",
   "metadata": {},
   "outputs": [],
   "source": [
    "## IMPORT ##\n",
    "import pandas as pd\n",
    "from pandas import read_csv\n",
    "import urllib.request\n",
    "import time\n",
    "import os\n",
    "from datetime import date\n",
    "from pyfaidx import Fasta"
   ]
  },
  {
   "cell_type": "markdown",
   "id": "72b34bde",
   "metadata": {},
   "source": [
    "Firstly, download RefSeq Genomes from NCBI Virus as csv format from https://www.ncbi.nlm.nih.gov/labs/virus/vssi/#/virus?SeqType_s=Nucleotide&VirusLineage_ss=Bacteriophage,%20all%20taxids and then read the dataframe."
   ]
  },
  {
   "cell_type": "code",
   "execution_count": 70,
   "id": "c0800403",
   "metadata": {
    "scrolled": true
   },
   "outputs": [
    {
     "ename": "FileNotFoundError",
     "evalue": "[Errno 2] File b'sequences.csv' does not exist: b'sequences.csv'",
     "output_type": "error",
     "traceback": [
      "\u001b[0;31m---------------------------------------------------------------------------\u001b[0m",
      "\u001b[0;31mFileNotFoundError\u001b[0m                         Traceback (most recent call last)",
      "\u001b[0;32m<ipython-input-70-f1b41df8f50f>\u001b[0m in \u001b[0;36m<module>\u001b[0;34m\u001b[0m\n\u001b[0;32m----> 1\u001b[0;31m \u001b[0mseq\u001b[0m \u001b[0;34m=\u001b[0m \u001b[0mpd\u001b[0m\u001b[0;34m.\u001b[0m\u001b[0mread_csv\u001b[0m\u001b[0;34m(\u001b[0m\u001b[0;34m'sequences.csv'\u001b[0m\u001b[0;34m)\u001b[0m \u001b[0;31m#sequences from NCBI Virus -> assemblies\u001b[0m\u001b[0;34m\u001b[0m\u001b[0;34m\u001b[0m\u001b[0m\n\u001b[0m",
      "\u001b[0;32m~/miniconda3/lib/python3.8/site-packages/pandas/io/parsers.py\u001b[0m in \u001b[0;36mparser_f\u001b[0;34m(filepath_or_buffer, sep, delimiter, header, names, index_col, usecols, squeeze, prefix, mangle_dupe_cols, dtype, engine, converters, true_values, false_values, skipinitialspace, skiprows, skipfooter, nrows, na_values, keep_default_na, na_filter, verbose, skip_blank_lines, parse_dates, infer_datetime_format, keep_date_col, date_parser, dayfirst, cache_dates, iterator, chunksize, compression, thousands, decimal, lineterminator, quotechar, quoting, doublequote, escapechar, comment, encoding, dialect, error_bad_lines, warn_bad_lines, delim_whitespace, low_memory, memory_map, float_precision)\u001b[0m\n\u001b[1;32m    683\u001b[0m         )\n\u001b[1;32m    684\u001b[0m \u001b[0;34m\u001b[0m\u001b[0m\n\u001b[0;32m--> 685\u001b[0;31m         \u001b[0;32mreturn\u001b[0m \u001b[0m_read\u001b[0m\u001b[0;34m(\u001b[0m\u001b[0mfilepath_or_buffer\u001b[0m\u001b[0;34m,\u001b[0m \u001b[0mkwds\u001b[0m\u001b[0;34m)\u001b[0m\u001b[0;34m\u001b[0m\u001b[0;34m\u001b[0m\u001b[0m\n\u001b[0m\u001b[1;32m    686\u001b[0m \u001b[0;34m\u001b[0m\u001b[0m\n\u001b[1;32m    687\u001b[0m     \u001b[0mparser_f\u001b[0m\u001b[0;34m.\u001b[0m\u001b[0m__name__\u001b[0m \u001b[0;34m=\u001b[0m \u001b[0mname\u001b[0m\u001b[0;34m\u001b[0m\u001b[0;34m\u001b[0m\u001b[0m\n",
      "\u001b[0;32m~/miniconda3/lib/python3.8/site-packages/pandas/io/parsers.py\u001b[0m in \u001b[0;36m_read\u001b[0;34m(filepath_or_buffer, kwds)\u001b[0m\n\u001b[1;32m    455\u001b[0m \u001b[0;34m\u001b[0m\u001b[0m\n\u001b[1;32m    456\u001b[0m     \u001b[0;31m# Create the parser.\u001b[0m\u001b[0;34m\u001b[0m\u001b[0;34m\u001b[0m\u001b[0;34m\u001b[0m\u001b[0m\n\u001b[0;32m--> 457\u001b[0;31m     \u001b[0mparser\u001b[0m \u001b[0;34m=\u001b[0m \u001b[0mTextFileReader\u001b[0m\u001b[0;34m(\u001b[0m\u001b[0mfp_or_buf\u001b[0m\u001b[0;34m,\u001b[0m \u001b[0;34m**\u001b[0m\u001b[0mkwds\u001b[0m\u001b[0;34m)\u001b[0m\u001b[0;34m\u001b[0m\u001b[0;34m\u001b[0m\u001b[0m\n\u001b[0m\u001b[1;32m    458\u001b[0m \u001b[0;34m\u001b[0m\u001b[0m\n\u001b[1;32m    459\u001b[0m     \u001b[0;32mif\u001b[0m \u001b[0mchunksize\u001b[0m \u001b[0;32mor\u001b[0m \u001b[0miterator\u001b[0m\u001b[0;34m:\u001b[0m\u001b[0;34m\u001b[0m\u001b[0;34m\u001b[0m\u001b[0m\n",
      "\u001b[0;32m~/miniconda3/lib/python3.8/site-packages/pandas/io/parsers.py\u001b[0m in \u001b[0;36m__init__\u001b[0;34m(self, f, engine, **kwds)\u001b[0m\n\u001b[1;32m    893\u001b[0m             \u001b[0mself\u001b[0m\u001b[0;34m.\u001b[0m\u001b[0moptions\u001b[0m\u001b[0;34m[\u001b[0m\u001b[0;34m\"has_index_names\"\u001b[0m\u001b[0;34m]\u001b[0m \u001b[0;34m=\u001b[0m \u001b[0mkwds\u001b[0m\u001b[0;34m[\u001b[0m\u001b[0;34m\"has_index_names\"\u001b[0m\u001b[0;34m]\u001b[0m\u001b[0;34m\u001b[0m\u001b[0;34m\u001b[0m\u001b[0m\n\u001b[1;32m    894\u001b[0m \u001b[0;34m\u001b[0m\u001b[0m\n\u001b[0;32m--> 895\u001b[0;31m         \u001b[0mself\u001b[0m\u001b[0;34m.\u001b[0m\u001b[0m_make_engine\u001b[0m\u001b[0;34m(\u001b[0m\u001b[0mself\u001b[0m\u001b[0;34m.\u001b[0m\u001b[0mengine\u001b[0m\u001b[0;34m)\u001b[0m\u001b[0;34m\u001b[0m\u001b[0;34m\u001b[0m\u001b[0m\n\u001b[0m\u001b[1;32m    896\u001b[0m \u001b[0;34m\u001b[0m\u001b[0m\n\u001b[1;32m    897\u001b[0m     \u001b[0;32mdef\u001b[0m \u001b[0mclose\u001b[0m\u001b[0;34m(\u001b[0m\u001b[0mself\u001b[0m\u001b[0;34m)\u001b[0m\u001b[0;34m:\u001b[0m\u001b[0;34m\u001b[0m\u001b[0;34m\u001b[0m\u001b[0m\n",
      "\u001b[0;32m~/miniconda3/lib/python3.8/site-packages/pandas/io/parsers.py\u001b[0m in \u001b[0;36m_make_engine\u001b[0;34m(self, engine)\u001b[0m\n\u001b[1;32m   1133\u001b[0m     \u001b[0;32mdef\u001b[0m \u001b[0m_make_engine\u001b[0m\u001b[0;34m(\u001b[0m\u001b[0mself\u001b[0m\u001b[0;34m,\u001b[0m \u001b[0mengine\u001b[0m\u001b[0;34m=\u001b[0m\u001b[0;34m\"c\"\u001b[0m\u001b[0;34m)\u001b[0m\u001b[0;34m:\u001b[0m\u001b[0;34m\u001b[0m\u001b[0;34m\u001b[0m\u001b[0m\n\u001b[1;32m   1134\u001b[0m         \u001b[0;32mif\u001b[0m \u001b[0mengine\u001b[0m \u001b[0;34m==\u001b[0m \u001b[0;34m\"c\"\u001b[0m\u001b[0;34m:\u001b[0m\u001b[0;34m\u001b[0m\u001b[0;34m\u001b[0m\u001b[0m\n\u001b[0;32m-> 1135\u001b[0;31m             \u001b[0mself\u001b[0m\u001b[0;34m.\u001b[0m\u001b[0m_engine\u001b[0m \u001b[0;34m=\u001b[0m \u001b[0mCParserWrapper\u001b[0m\u001b[0;34m(\u001b[0m\u001b[0mself\u001b[0m\u001b[0;34m.\u001b[0m\u001b[0mf\u001b[0m\u001b[0;34m,\u001b[0m \u001b[0;34m**\u001b[0m\u001b[0mself\u001b[0m\u001b[0;34m.\u001b[0m\u001b[0moptions\u001b[0m\u001b[0;34m)\u001b[0m\u001b[0;34m\u001b[0m\u001b[0;34m\u001b[0m\u001b[0m\n\u001b[0m\u001b[1;32m   1136\u001b[0m         \u001b[0;32melse\u001b[0m\u001b[0;34m:\u001b[0m\u001b[0;34m\u001b[0m\u001b[0;34m\u001b[0m\u001b[0m\n\u001b[1;32m   1137\u001b[0m             \u001b[0;32mif\u001b[0m \u001b[0mengine\u001b[0m \u001b[0;34m==\u001b[0m \u001b[0;34m\"python\"\u001b[0m\u001b[0;34m:\u001b[0m\u001b[0;34m\u001b[0m\u001b[0;34m\u001b[0m\u001b[0m\n",
      "\u001b[0;32m~/miniconda3/lib/python3.8/site-packages/pandas/io/parsers.py\u001b[0m in \u001b[0;36m__init__\u001b[0;34m(self, src, **kwds)\u001b[0m\n\u001b[1;32m   1915\u001b[0m         \u001b[0mkwds\u001b[0m\u001b[0;34m[\u001b[0m\u001b[0;34m\"usecols\"\u001b[0m\u001b[0;34m]\u001b[0m \u001b[0;34m=\u001b[0m \u001b[0mself\u001b[0m\u001b[0;34m.\u001b[0m\u001b[0musecols\u001b[0m\u001b[0;34m\u001b[0m\u001b[0;34m\u001b[0m\u001b[0m\n\u001b[1;32m   1916\u001b[0m \u001b[0;34m\u001b[0m\u001b[0m\n\u001b[0;32m-> 1917\u001b[0;31m         \u001b[0mself\u001b[0m\u001b[0;34m.\u001b[0m\u001b[0m_reader\u001b[0m \u001b[0;34m=\u001b[0m \u001b[0mparsers\u001b[0m\u001b[0;34m.\u001b[0m\u001b[0mTextReader\u001b[0m\u001b[0;34m(\u001b[0m\u001b[0msrc\u001b[0m\u001b[0;34m,\u001b[0m \u001b[0;34m**\u001b[0m\u001b[0mkwds\u001b[0m\u001b[0;34m)\u001b[0m\u001b[0;34m\u001b[0m\u001b[0;34m\u001b[0m\u001b[0m\n\u001b[0m\u001b[1;32m   1918\u001b[0m         \u001b[0mself\u001b[0m\u001b[0;34m.\u001b[0m\u001b[0munnamed_cols\u001b[0m \u001b[0;34m=\u001b[0m \u001b[0mself\u001b[0m\u001b[0;34m.\u001b[0m\u001b[0m_reader\u001b[0m\u001b[0;34m.\u001b[0m\u001b[0munnamed_cols\u001b[0m\u001b[0;34m\u001b[0m\u001b[0;34m\u001b[0m\u001b[0m\n\u001b[1;32m   1919\u001b[0m \u001b[0;34m\u001b[0m\u001b[0m\n",
      "\u001b[0;32mpandas/_libs/parsers.pyx\u001b[0m in \u001b[0;36mpandas._libs.parsers.TextReader.__cinit__\u001b[0;34m()\u001b[0m\n",
      "\u001b[0;32mpandas/_libs/parsers.pyx\u001b[0m in \u001b[0;36mpandas._libs.parsers.TextReader._setup_parser_source\u001b[0;34m()\u001b[0m\n",
      "\u001b[0;31mFileNotFoundError\u001b[0m: [Errno 2] File b'sequences.csv' does not exist: b'sequences.csv'"
     ]
    }
   ],
   "source": [
    "seq = pd.read_csv('sequences.csv') #sequences from NCBI Virus -> assemblies"
   ]
  },
  {
   "cell_type": "markdown",
   "id": "5a8eeb79",
   "metadata": {},
   "source": [
    "Filtr genomes and create list of genomes you want download"
   ]
  },
  {
   "cell_type": "code",
   "execution_count": null,
   "id": "0267a5bd",
   "metadata": {},
   "outputs": [],
   "source": [
    "#new dataframe with individual columns\n",
    "new_seq = seq[['Assembly', 'Species', 'Molecule_type', 'Family', 'Host', 'GenBank_Title']].copy()\n",
    "\n",
    "#sorting values by Host and Family\n",
    "new_seq.sort_values(by=['Host', 'Family'])\n",
    "\n",
    "#searching Family Siphoviridae which Host is Lactococcus lactis\n",
    "siphoviridae = new_seq.loc [(new_seq['Family'] == 'Siphoviridae') & (new_seq['Host'] == 'Lactococcus lactis')] \n",
    "\n",
    "#Family Siphoviridae|Lactococcus Lactis Host assemblies -> make list \n",
    "asb = siphoviridae[\"Assembly\"].tolist()"
   ]
  },
  {
   "cell_type": "code",
   "execution_count": null,
   "id": "3e0e6175",
   "metadata": {},
   "outputs": [],
   "source": [
    "siphovir_loc = seq.loc[seq['Family'] == 'Siphoviridae']\n",
    "sipho_list = siphovir_loc[\"Assembly\"].tolist() #make a list of bacteriophages of interest"
   ]
  },
  {
   "cell_type": "code",
   "execution_count": 71,
   "id": "b3f3e295",
   "metadata": {},
   "outputs": [
    {
     "data": {
      "text/plain": [
       "['GCF_009685705.1',\n",
       " 'GCF_002620465.1',\n",
       " 'GCF_002620665.1',\n",
       " 'GCF_002620365.1',\n",
       " 'GCF_002633045.1',\n",
       " 'GCF_003423365.1',\n",
       " 'GCF_002602865.1',\n",
       " 'GCF_002602885.1',\n",
       " 'GCF_002594645.1',\n",
       " 'GCF_002602825.1',\n",
       " 'GCF_009828335.1',\n",
       " 'GCF_008704725.1',\n",
       " 'GCF_003308595.1',\n",
       " 'GCF_003308695.1',\n",
       " 'GCF_003308655.1',\n",
       " 'GCF_003308755.1',\n",
       " 'GCF_002619805.1',\n",
       " 'GCF_009931875.1',\n",
       " 'GCF_009909565.1',\n",
       " 'GCF_009662755.1',\n",
       " 'GCF_011067295.1',\n",
       " 'GCF_009662515.1',\n",
       " 'GCF_014183395.1',\n",
       " 'GCF_014183385.1',\n",
       " 'GCF_013306735.1']"
      ]
     },
     "execution_count": 71,
     "metadata": {},
     "output_type": "execute_result"
    }
   ],
   "source": [
    "sipho_list[0:25]"
   ]
  },
  {
   "cell_type": "code",
   "execution_count": 72,
   "id": "a7708f48",
   "metadata": {},
   "outputs": [
    {
     "data": {
      "text/plain": [
       "1579"
      ]
     },
     "execution_count": 72,
     "metadata": {},
     "output_type": "execute_result"
    }
   ],
   "source": [
    "len(sipho_list)"
   ]
  },
  {
   "cell_type": "code",
   "execution_count": 73,
   "id": "cd75347d",
   "metadata": {
    "scrolled": false
   },
   "outputs": [
    {
     "data": {
      "text/plain": [
       "['GCF_009685705.1',\n",
       " 'GCF_002620465.1',\n",
       " 'GCF_002620665.1',\n",
       " 'GCF_002620365.1',\n",
       " 'GCF_009685685.1',\n",
       " 'GCF_002611385.1',\n",
       " 'GCF_002611285.1',\n",
       " 'GCF_002758415.1',\n",
       " 'GCF_009662695.1',\n",
       " 'GCF_002620505.1',\n",
       " 'GCF_002620585.1',\n",
       " 'GCF_002602185.1',\n",
       " 'GCF_002602245.1',\n",
       " 'GCF_002602225.1',\n",
       " 'GCF_002602205.1',\n",
       " 'GCF_002630605.1',\n",
       " 'GCF_002630585.1',\n",
       " 'GCF_001746015.1',\n",
       " 'GCF_001745855.1',\n",
       " 'GCF_001745355.1',\n",
       " 'GCF_001745195.1',\n",
       " 'GCF_001744695.1',\n",
       " 'GCF_001744535.1',\n",
       " 'GCF_001744035.1',\n",
       " 'GCF_001744015.1']"
      ]
     },
     "execution_count": 73,
     "metadata": {},
     "output_type": "execute_result"
    }
   ],
   "source": [
    "asb[0:25]"
   ]
  },
  {
   "cell_type": "markdown",
   "id": "4c6a7c73",
   "metadata": {},
   "source": [
    "Download assembly_summary_refseq txt file to get the path from specific assemblies"
   ]
  },
  {
   "cell_type": "code",
   "execution_count": null,
   "id": "1c74de6f",
   "metadata": {},
   "outputs": [],
   "source": [
    "urllib.request.urlretrieve(\"https://ftp.ncbi.nlm.nih.gov/genomes/refseq/assembly_summary_refseq.txt\", \"assembly_summary_refseq.txt\")"
   ]
  },
  {
   "cell_type": "code",
   "execution_count": null,
   "id": "64f6c788",
   "metadata": {},
   "outputs": [],
   "source": [
    "def get_assemblies(phages_list, path):\n",
    "    '''\n",
    "    This function download genomes from flirting list of Bacteriophages to concrete path\n",
    "    '''\n",
    "    #import assembly_summary_refseq file to dataframe\n",
    "    assembly_sum = pd.read_csv('/home/amanda/assembly_summary_refseq.txt', sep='\\t', skiprows=1) \n",
    "    #names of columns\n",
    "    assembly_sum.columns = [\n",
    "        'assembly_accession',\n",
    "        'bioproject','biosample',\n",
    "        'wgs_master','refseq_category',\n",
    "        'taxid','species_taxid','organism_name',\n",
    "        'infraspecific_name','isolate','version_status',\n",
    "        'assembly_level','release_type','genome_rep',\n",
    "        'seq_rel_date','asm_name','submitter','gbrs_paired_asm',\n",
    "        'paired_asm_comp','ftp_path','excluded_from_refseq',\n",
    "        'relation_to_type_material','asm_not_live_date'\n",
    "    ]\n",
    "\n",
    "    for assembly in phages_list:\n",
    "        # searching specific genomes from list\n",
    "        my_df = assembly_sum[(assembly_sum['assembly_accession'] == assembly)]\n",
    "        #Process the newly created file and download genomes from NCBI website\n",
    "        ftp = my_df['ftp_path'].tolist() #making ftp list --> path to download genomes\n",
    "        asm = my_df['asm_name'].to_list() #making asm list --> asm necessary as part of suffix\n",
    "\n",
    "        for elem in ftp:\n",
    "            for i in asm:\n",
    "                file_in = assembly + '.fna.gz' #gzip format\n",
    "                fullfilename = os.path.join(path, file_in) #directory and file name\n",
    "                file_suffix=elem+'/'+assembly+'_'+i+'_genomic.fna.gz'\n",
    "                try:   \n",
    "                    if os.path.isfile(fullfilename): #if genome is in directory, skip it and continue the rest of them\n",
    "                        print(file_in, \" already exist\")\n",
    "                        continue\n",
    "                    else:\n",
    "                        response = urllib.request.urlretrieve(file_suffix, fullfilename) #download genomes\n",
    "                        print(\"Download:\", file_in)\n",
    "                        time.sleep(1)\n",
    "\n",
    "                except:        \n",
    "                    print(\"Skipping\", file_in, \" - doesn't exist.\") #If there is an error or the ftp server doesn't have the genome, skip it\n"
   ]
  },
  {
   "cell_type": "code",
   "execution_count": null,
   "id": "b0174cff",
   "metadata": {},
   "outputs": [],
   "source": [
    "def folder(parent_dir, folder_name):\n",
    "    '''\n",
    "    This function create new folder in directory\n",
    "    '''\n",
    "    path = os.path.join(parent_dir, folder_name)\n",
    "    os.mkdir(path)\n",
    "    print(\"Directory '% s' created\" % folder_name)\n",
    "    "
   ]
  },
  {
   "cell_type": "code",
   "execution_count": null,
   "id": "4d5984eb",
   "metadata": {},
   "outputs": [],
   "source": [
    "folder('/home/amanda/Bacteriophages','Siphoviridae')"
   ]
  },
  {
   "cell_type": "code",
   "execution_count": null,
   "id": "c2615d14",
   "metadata": {},
   "outputs": [],
   "source": [
    "path = '/home/amanda/Bacteriophages/Siphoviridae' "
   ]
  },
  {
   "cell_type": "code",
   "execution_count": null,
   "id": "f1bd4767",
   "metadata": {},
   "outputs": [],
   "source": [
    "get_assemblies(sipho_list, path)"
   ]
  },
  {
   "cell_type": "code",
   "execution_count": null,
   "id": "567d4222",
   "metadata": {},
   "outputs": [],
   "source": [
    "def inventory(path):\n",
    "    '''\n",
    "    This function create inventory txt file with date of downloading\n",
    "\n",
    "    '''\n",
    "    current_time = str(date.today())\n",
    "    with open(os.path.join(path, \"inventory.txt\"), \"w\") as f:\n",
    "        for path, subdirs, files in os.walk(path):\n",
    "            for filenames in files:\n",
    "                if filenames == 'inventory.txt':\n",
    "                    continue\n",
    "                else:\n",
    "                    f.write(filenames + '\\t' + current_time + '\\n')\n",
    "\n",
    "            "
   ]
  },
  {
   "cell_type": "markdown",
   "id": "e6e3d6db",
   "metadata": {},
   "source": [
    "\n",
    "### Create one file for all downloading genomes with samtools"
   ]
  },
  {
   "cell_type": "markdown",
   "id": "2425d6d2",
   "metadata": {},
   "source": [
    "Change the directory to create one compressed fasta file and *.fai file by which samtools can quickly access any region of the genome."
   ]
  },
  {
   "cell_type": "code",
   "execution_count": 74,
   "id": "d327cbf9",
   "metadata": {},
   "outputs": [
    {
     "name": "stdout",
     "output_type": "stream",
     "text": [
      "Current Working Directory:  /home/amanda/Bacteriophages/Siphoviridae\n"
     ]
    }
   ],
   "source": [
    "os.chdir(path)\n",
    "print(\"Current Working Directory: \" , os.getcwd())"
   ]
  },
  {
   "cell_type": "code",
   "execution_count": 75,
   "id": "43a768ff",
   "metadata": {},
   "outputs": [
    {
     "name": "stdout",
     "output_type": "stream",
     "text": [
      "Process is interrupted.\n"
     ]
    }
   ],
   "source": [
    "%%bash\n",
    "gunzip GCF*.fna.gz\n",
    "cat GCF*.fna>> genomy.fasta\n",
    "rm GCF*.fna #remove files\n",
    "bgzip -c genomy.fasta >> genomy.fasta.bgzf #compressed files as *.bgzf\n",
    "samtools faidx genomy.fasta "
   ]
  },
  {
   "cell_type": "code",
   "execution_count": null,
   "id": "10c9c3e8",
   "metadata": {},
   "outputs": [],
   "source": [
    "inventory(path)"
   ]
  },
  {
   "cell_type": "code",
   "execution_count": 77,
   "id": "08621344",
   "metadata": {},
   "outputs": [
    {
     "name": "stdout",
     "output_type": "stream",
     "text": [
      ">NC_001706.1:1-1234\n",
      "AAGCCTAACTCTTTTGAATCTATTTTTCCATTTTTCGTTTTGAAAAAAATATGCCGTAAT\n",
      "TCTTCCTAAATCGTCTTATTTTGCGTGTTTTGGTCTGTTCCTTGTCATTGTCCTAGAAAT\n",
      "TATTTAAAATGCAATACAAGCCAATCTGTGAGCTTAAAGGGGTATTATATAGCAGGGCGT\n",
      "ACTTCATCAACAACCAAACAAAAAAACCACTCTTGATTGAGTGGCGTGTAAATGAAGAGA\n",
      "TACCTCACTTTTCTATTTTATTAAATTTTGTTCATTGATAGTTTCAATTGCTTTTTTAAC\n",
      "TTGTTCAGGTTTACCAGTTATAACTAACTTTATTTCATCTTTACGTTCGGCGTGTTTCTT\n",
      "TCCTACTTTAATTAAGTACCAACTGTACAAGATGAATGACACAATATAAATAACGTATAC\n",
      "TATTTTTACACCTCCGTCATTTCTTCTAACGTTTCTTCTACTGTTTTATGTAAGTCGTAG\n",
      "TAGAATACACCAGTATAATGTTTGTCTTCTTCTTTGGTCCAATTTTCATAATCGGTATCT\n",
      "TCCATGATTTCGTTGACCATTTCAGAATGTTCGTTTAGGTTAGTCACAAGAATTTCAACG\n",
      "GCTTTTACAGAGGCTTTGTGCCATTTTGCCGTGAATTCGTACGCTTTGACAACTTCTTGA\n",
      "AGCATACTGAACAAGTCAATGTATTGGGCTTCAGCATAAGCGTGGACTTGACTTTCATCT\n",
      "TTTGGAAAATGTTCATCTACTTTTTTATCATGTAATTTCAAAGTGTCACTAAGCAATTCA\n",
      "ATTTGGTTTTTTAATTTCATTTTTTTATTTCTCTCTTTCTTTTTACACTTGCATTCCAGT\n",
      "TAATTTGTTTAAGTATTTCGTTTTGCGGTCGATATGATACTCTAAATTGTTTCCCCAACG\n",
      "CGTTTGTAGCGAAAGTTTTAAACATTCAATAATATAGCTTTTAAGTGTTCCGTTTGTATT\n",
      "AACATCGTATAAAGTGTAGAAGTATTTTCCTTGTTGGCCCTCACTTGCGTTATACTCATT\n",
      "AAGTTCAAAGATTTCATTCTCGGCAAATGCTTCGAGTTCTTCTTTTTTTAAGTTATTGAA\n",
      "GCCACTAGAGAAACGGATAAAATTCAATGTATTTTCATTAATCATAGTAGTTACCTCTTA\n",
      "ATTTTATAATATTTGTGTTATCTGTGATAGTGTTTGCGTATATATAATGTTCATCGCTCA\n",
      "AGAGCTGTACAGCCCTGTATAAGCTGTTTTCTGT\n"
     ]
    }
   ],
   "source": [
    "%%bash\n",
    "samtools faidx genomy.fasta.bgzf NC_001706.1:1-1234 #you can get a subsequence from any genome"
   ]
  },
  {
   "cell_type": "markdown",
   "id": "aa59090b",
   "metadata": {},
   "source": [
    "\n",
    "**For each row in *.fai:**\n",
    "\n",
    "- Column 1: Accession\n",
    "\n",
    "- Column 2: The number of bases in the genome\n",
    "\n",
    "- Column 3: The byte index of the file where the genome sequence begins. (Notice how it constantly increases by roughly the amount in column 2?)\n",
    "\n",
    "- Column 4: bases per line in the FASTA file\n",
    "\n",
    "- Column 5: bytes per line in the FASTA file\n"
   ]
  },
  {
   "cell_type": "code",
   "execution_count": null,
   "id": "505bd09f",
   "metadata": {
    "scrolled": true
   },
   "outputs": [],
   "source": [
    "%%bash\n",
    "\n",
    "awk 'OFS=\"\\t\" {print $1,$2,$3, $4, $5}' genomy.fasta.bgzf.fai #print what is in *fai file"
   ]
  },
  {
   "cell_type": "code",
   "execution_count": null,
   "id": "b5085fc6",
   "metadata": {},
   "outputs": [],
   "source": [
    "%%bash\n",
    "cut -f1-2 genomy.fasta.bgzf.fai #only the number of bases in genomes"
   ]
  },
  {
   "cell_type": "markdown",
   "id": "031c46a7",
   "metadata": {},
   "source": [
    "### Pyfaidx to get access to any subsequence from file\n",
    "\n",
    "more about pyfaidx:\n",
    "https://pypi.org/project/pyfaidx/"
   ]
  },
  {
   "cell_type": "code",
   "execution_count": 79,
   "id": "4a5285aa",
   "metadata": {},
   "outputs": [],
   "source": [
    "genes = Fasta('/home/amanda/Bacteriophages/Siphoviridae/genomy.fasta')"
   ]
  },
  {
   "cell_type": "code",
   "execution_count": 80,
   "id": "6084c2be",
   "metadata": {},
   "outputs": [
    {
     "data": {
      "text/plain": [
       "odict_keys(['NC_002166.1', 'NC_002214.1', 'NC_002656.1', 'NC_002671.1', 'NC_000872.1', 'NC_002661.2', 'NC_003288.1', 'NC_003387.1', 'NC_001902.1', 'NC_001706.1', 'NC_001884.1', 'NC_001835.1', 'NC_002669.1', 'NC_002747.1', 'NC_003157.5', 'NC_001909.1', 'NC_002666.1', 'NC_002703.1', 'NC_002486.1', 'NC_002670.1', 'NC_003524.1', 'NC_000871.1', 'NC_002185.1', 'NC_001901.1', 'NC_003291.2', 'NC_001416.1', 'NC_004302.1', 'NC_004681.1', 'NC_004689.1', 'NC_002628.3', 'NC_005091.2', 'NC_003309.1', 'NC_004686.2', 'NC_005356.1', 'NC_004167.1', 'NC_004303.1', 'NC_004615.1', 'NC_004683.1', 'NC_004682.2', 'NC_004305.1', 'NC_004066.1', 'NC_001900.1', 'NC_004617.1', 'NC_004688.1', 'NC_004902.1', 'NC_004684.1', 'NC_005178.1', 'NC_002668.1', 'NC_005355.1', 'NC_005885.1', 'NC_004616.1', 'NC_004685.1', 'NC_004664.2', 'NC_004746.1', 'NC_004813.1', 'NC_004996.1', 'NC_005354.1', 'NC_005822.1', 'NC_002321.1', 'NC_005345.2', 'NC_006548.1', 'NC_002484.2', 'NC_002667.1', 'NC_006356.2', 'NC_004680.1', 'NC_005284.1', 'NC_001335.1', 'NC_005893.1', 'NC_005857.1', 'NC_006557.1', 'NC_004166.2', 'NC_004112.1', 'NC_001978.3', 'NC_000896.1', 'NC_002167.1', 'NC_003216.1', 'NC_003050.2', 'NC_006940.2', 'NC_005069.1', 'NC_007024.1', 'NC_007050.1', 'NC_007047.1', 'NC_007052.1', 'NC_007056.1', 'NC_007060.1', 'NC_007064.1', 'NC_002072.2', 'NC_006949.1', 'NC_007019.1', 'NC_007051.1', 'NC_002796.1', 'NC_007048.1', 'NC_007053.1', 'NC_007057.1', 'NC_007061.1', 'NC_007065.1', 'NC_006936.1', 'NC_006953.1', 'NC_007049.1', 'NC_007054.1', 'NC_007058.1', 'NC_007062.1', 'NC_007055.1', 'NC_007059.1', 'NC_007063.1', 'NC_007458.1', 'NC_006938.1', 'NC_007734.1', 'NC_007806.1', 'NC_007581.1', 'NC_007805.1', 'NC_007809.1', 'NC_007497.1', 'NC_007501.1', 'NC_007709.1', 'NC_007814.1', 'NC_008195.1', 'NC_008198.1', 'NC_008204.1', 'NC_008689.1', 'NC_008717.1', 'NC_008721.2', 'NC_008798.1', 'NC_009018.1', 'NC_008202.2', 'NC_008200.1', 'NC_008206.2', 'NC_008363.1', 'NC_008370.1', 'NC_008722.1', 'NC_008799.1', 'NC_007967.1', 'NC_008194.1', 'NC_008203.1', 'NC_008197.1', 'NC_008199.1', 'NC_008196.1', 'NC_008205.1', 'NC_008364.1', 'NC_008371.1', 'NC_008583.1', 'NC_008617.1', 'NC_008695.1', 'NC_008723.1', 'NC_009232.2', 'NC_009552.3', 'NC_009763.3', 'NC_009803.1', 'NC_009819.1', 'NC_009815.1', 'NC_009878.1', 'NC_010116.1', 'NC_009526.1', 'NC_009541.1', 'NC_009804.1', 'NC_009820.1', 'NC_009812.1', 'NC_009993.2', 'NC_010147.1', 'NC_010355.1', 'NC_009543.1', 'NC_009554.1', 'NC_009762.3', 'NC_009810.1', 'NC_009814.1', 'NC_009877.1', 'NC_009447.1', 'NC_009514.1', 'NC_009603.1', 'NC_009761.3', 'NC_009799.3', 'NC_009816.1', 'NC_009818.1', 'NC_010808.1', 'NC_011021.1', 'NC_011039.1', 'NC_011057.1', 'NC_010353.1', 'NC_010495.1', 'NC_010945.1', 'NC_011022.1', 'NC_011023.1', 'NC_011055.1', 'NC_011104.1', 'NC_011019.1', 'NC_011046.1', 'NC_011044.1', 'NC_011056.1', 'NC_010576.1', 'NC_011020.1', 'NC_011054.1', 'NC_011267.1', 'NC_011291.1', 'NC_011288.1', 'NC_011344.1', 'NC_011357.1', 'NC_011373.1', 'NC_011614.1', 'NC_011645.1', 'NC_012223.2', 'NC_011103.1', 'NC_011167.1', 'NC_011290.1', 'NC_011287.1', 'NC_011612.1', 'NC_012027.1', 'NC_012419.1', 'NC_011292.1', 'NC_011308.1', 'NC_011318.1', 'NC_011356.1', 'NC_001629.1', 'NC_011589.1', 'NC_011611.1', 'NC_011646.1', 'NC_011801.1', 'NC_012663.1', 'NC_011222.1', 'NC_011285.1', 'NC_011289.1', 'NC_011613.1', 'NC_012884.1', 'NC_013648.1', 'NC_013643.1', 'NC_012742.1', 'NC_012753.1', 'NC_013021.1', 'NC_013055.1', 'NC_013645.1', 'NC_012788.1', 'NC_013598.1', 'NC_013646.1', 'NC_013696.1', 'NC_012756.1', 'NC_012784.1', 'NC_013195.1', 'NC_013600.1', 'NC_013644.1', 'NC_013694.1', 'NC_013698.1', 'NC_013936.1', 'NC_014458.1', 'NC_014229.1', 'NC_014460.1', 'NC_014459.2', 'NC_014457.1', 'NC_014461.1', 'NC_014901.1', 'NC_015210.1', 'NC_015252.1', 'NC_015263.1', 'NC_015465.1', 'NC_015568.1', 'NC_015254.1', 'NC_015454.1', 'NC_015463.1', 'NC_015584.1', 'NC_015293.1', 'NC_015453.1', 'NC_015466.1', 'NC_015720.1', 'NC_009235.2', 'NC_015262.1', 'NC_015270.1', 'NC_015274.1', 'NC_016158.1', 'NC_016166.1', 'NC_016434.1', 'NC_016564.1', 'NC_016650.1', 'NC_016654.1', 'NC_016763.1', 'NC_016160.1', 'NC_016164.1', 'NC_016566.1', 'NC_016652.1', 'NC_016765.1', 'NC_016770.1', 'NC_016569.1', 'NC_016651.1', 'NC_016655.1', 'NC_017968.1', 'NC_017978.1', 'NC_016161.1', 'NC_016165.1', 'NC_016435.1', 'NC_016567.1', 'NC_016653.1', 'NC_016762.1', 'NC_016766.1', 'NC_017864.1', 'NC_018278.1', 'NC_018273.1', 'NC_018276.1', 'NC_018284.1', 'NC_018853.1', 'NC_018845.1', 'NC_018840.1', 'NC_018832.1', 'NC_017973.1', 'NC_017976.1', 'NC_018088.1', 'NC_018277.1', 'NC_018274.1', 'NC_018272.1', 'NC_018454.1', 'NC_018836.1', 'NC_018831.1', 'NC_018839.1', 'NC_018852.1', 'NC_018847.1', 'NC_018086.1', 'NC_018085.1', 'NC_018283.1', 'NC_018271.1', 'NC_018269.1', 'NC_018282.1', 'NC_018843.1', 'NC_018834.1', 'NC_018849.1', 'NC_018842.1', 'NC_019414.1', 'NC_019406.1', 'NC_019411.1', 'NC_018279.1', 'NC_018281.1', 'NC_018848.1', 'NC_018841.1', 'NC_018838.1', 'NC_018851.1', 'NC_019405.1', 'NC_019408.1', 'NC_019419.2', 'NC_019486.1', 'NC_019513.1', 'NC_019545.1', 'NC_019710.1', 'NC_019719.1', 'NC_019704.1', 'NC_019769.1', 'NC_019916.1', 'NC_019933.2', 'NC_019417.1', 'NC_019410.1', 'NC_019418.1', 'NC_019449.1', 'NC_019490.1', 'NC_019506.1', 'NC_019524.2', 'NC_019714.1', 'NC_019706.1', 'NC_019709.1', 'NC_019715.1', 'NC_019713.1', 'NC_019456.1', 'NC_019489.1', 'NC_019502.1', 'NC_019541.1', 'NC_019539.1', 'NC_019717.1', 'NC_019711.1', 'NC_019716.1', 'NC_019720.1', 'NC_019767.1', 'NC_019407.1', 'NC_019508.1', 'NC_019496.1', 'NC_019724.1', 'NC_019723.1', 'NC_019708.1', 'NC_019705.1', 'NC_019721.1', 'NC_019768.1', 'NC_019914.1', 'NC_019921.1', 'NC_019927.1', 'NC_020197.1', 'NC_020198.1', 'NC_020478.1', 'NC_020489.1', 'NC_020846.1', 'NC_020844.1', 'NC_020876.1', 'NC_021061.1', 'NC_019924.1', 'NC_019912.1', 'NC_019915.1', 'NC_019934.1', 'NC_020200.1', 'NC_020477.1', 'NC_020839.1', 'NC_020857.1', 'NC_020880.1', 'NC_020202.1', 'NC_020479.1', 'NC_020490.2', 'NC_020840.1', 'NC_020842.1', 'NC_020854.1', 'NC_020870.1', 'NC_020203.1', 'NC_020199.1', 'NC_020481.1', 'NC_020480.1', 'NC_020853.1', 'NC_020866.1', 'NC_020847.1', 'NC_020883.1', 'NC_021063.1', 'NC_021307.1', 'NC_021308.1', 'NC_021334.1', 'NC_021533.1', 'NC_021773.2', 'NC_021779.1', 'NC_021785.1', 'NC_021783.1', 'NC_021804.1', 'NC_021800.1', 'NC_021855.1', 'NC_021863.1', 'NC_021311.1', 'NC_021309.1', 'NC_021302.1', 'NC_021298.1', 'NC_021332.1', 'NC_021318.1', 'NC_021534.1', 'NC_021558.1', 'NC_021799.1', 'NC_021801.1', 'NC_021305.1', 'NC_021310.1', 'NC_021304.1', 'NC_021324.1', 'NC_021325.1', 'NC_021537.1', 'NC_021535.1', 'NC_021539.2', 'NC_021561.1', 'NC_021563.1', 'NC_021780.1', 'NC_021795.1', 'NC_021791.1', 'NC_021867.1', 'NC_021860.1', 'NC_022070.1', 'NC_021301.1', 'NC_021297.1', 'NC_021306.2', 'NC_021299.1', 'NC_021317.1', 'NC_021326.1', 'NC_021338.1', 'NC_021339.1', 'NC_021323.1', 'NC_021538.1', 'NC_021556.1', 'NC_021777.1', 'NC_021775.1', 'NC_021787.2', 'NC_021802.1', 'NC_021868.1', 'NC_021865.1', 'NC_021861.1', 'NC_021853.1', 'NC_022059.1', 'NC_022058.1', 'NC_022071.1', 'NC_022052.1', 'NC_022068.1', 'NC_022066.1', 'NC_022337.1', 'NC_022330.1', 'NC_022336.1', 'NC_022328.1', 'NC_022756.1', 'NC_022776.1', 'NC_022791.1', 'NC_022981.1', 'NC_022983.1', 'NC_022972.2', 'NC_022988.1', 'NC_021790.1', 'NC_021854.1', 'NC_021852.1', 'NC_022053.1', 'NC_022061.1', 'NC_022069.1', 'NC_022062.1', 'NC_022060.1', 'NC_022087.1', 'NC_022341.1', 'NC_022342.1', 'NC_022335.1', 'NC_022324.1', 'NC_022757.1', 'NC_022765.1', 'NC_022773.1', 'NC_022065.1', 'NC_022067.1', 'NC_022055.1', 'NC_022086.1', 'NC_022334.1', 'NC_022329.1', 'NC_022331.2', 'NC_022338.1', 'NC_022754.1', 'NC_022758.1', 'NC_022762.1', 'NC_022766.1', 'NC_022914.1', 'NC_022973.1', 'NC_022969.1', 'NC_022063.1', 'NC_022056.1', 'NC_022054.1', 'NC_022057.1', 'NC_022085.1', 'NC_022340.1', 'NC_022325.1', 'NC_022752.1', 'NC_022753.1', 'NC_022774.1', 'NC_022767.1', 'NC_022775.1', 'NC_022989.1', 'NC_022975.1', 'NC_022985.1', 'NC_022976.1', 'NC_022979.1', 'NC_023498.1', 'NC_023499.1', 'NC_023612.1', 'NC_023609.1', 'NC_023606.1', 'NC_023555.1', 'NC_023553.1', 'NC_023549.1', 'NC_023564.1', 'NC_023563.1', 'NC_022984.1', 'NC_022965.1', 'NC_022977.1', 'NC_023603.1', 'NC_023602.1', 'NC_023614.1', 'NC_023562.1', 'NC_023590.1', 'NC_023580.1', 'NC_023582.1', 'NC_023569.1', 'NC_023007.1', 'NC_023500.1', 'NC_023559.1', 'NC_023571.1', 'NC_023560.1', 'NC_023600.1', 'NC_023597.1', 'NC_023599.1', 'NC_023565.1', 'NC_023551.1', 'NC_023554.1', 'NC_023574.1', 'NC_023577.1', 'NC_023734.1', 'NC_023730.1', 'NC_023503.1', 'NC_023502.1', 'NC_023595.2', 'NC_023608.1', 'NC_023607.1', 'NC_023604.1', 'NC_023566.1', 'NC_023552.1', 'NC_023578.1', 'NC_023572.1', 'NC_023700.1', 'NC_023732.1', 'NC_023708.1', 'NC_023731.1', 'NC_023698.1', 'NC_023748.1', 'NC_023744.1', 'NC_023699.1', 'NC_023686.1', 'NC_023716.1', 'NC_023739.1', 'NC_023859.1', 'NC_024143.1', 'NC_024136.1', 'NC_023695.1', 'NC_023747.1', 'NC_023705.1', 'NC_023721.1', 'NC_023709.1', 'NC_023724.1', 'NC_023726.1', 'NC_023741.1', 'NC_023722.1', 'NC_023735.1', 'NC_023712.1', 'NC_023702.1', 'NC_023728.1', 'NC_023690.1', 'NC_023692.1', 'NC_023720.1', 'NC_023707.1', 'NC_023689.1', 'NC_023711.1', 'NC_023704.1', 'NC_023738.1', 'NC_023723.1', 'NC_023740.1', 'NC_023713.1', 'NC_023727.1', 'NC_023687.1', 'NC_023862.1', 'NC_024138.1', 'NC_024135.1', 'NC_024204.1', 'NC_023691.1', 'NC_023710.1', 'NC_023746.1', 'NC_023729.1', 'NC_023706.1', 'NC_023694.1', 'NC_023703.1', 'NC_023697.1', 'NC_023742.1', 'NC_023701.1', 'NC_024146.1', 'NC_024147.1', 'NC_024148.1', 'NC_024212.1', 'NC_024203.1', 'NC_024215.1', 'NC_024209.1', 'NC_024365.1', 'NC_024355.1', 'NC_024356.1', 'NC_024392.1', 'NC_024388.1', 'NC_024385.1', 'NC_024361.1', 'NC_024357.1', 'NC_024375.1', 'NC_024368.1', 'NC_024371.1', 'NC_024384.1', 'NC_024378.1', 'NC_024389.1', 'NC_024386.1', 'NC_024782.1', 'NC_024783.1', 'NC_024141.1', 'NC_024145.1', 'NC_024208.1', 'NC_024330.1', 'NC_024370.1', 'NC_024363.1', 'NC_024381.1', 'NC_024380.1', 'NC_024387.1', 'NC_024214.1', 'NC_024366.1', 'NC_024391.1', 'NC_024390.1', 'NC_025415.1', 'NC_025442.1', 'NC_025424.1', 'NC_025420.1', 'NC_025428.1', 'NC_025466.1', 'NC_025438.1', 'NC_025433.1', 'NC_025444.1', 'NC_025460.1', 'NC_025421.1', 'NC_025453.1', 'NC_025439.1', 'NC_025465.1', 'NC_025443.1', 'NC_026017.1', 'NC_025463.1', 'NC_025471.1', 'NC_026016.1', 'NC_026608.1', 'NC_026594.1', 'NC_026589.1', 'NC_026583.1', 'NC_026593.1', 'NC_026588.1', 'NC_026604.1', 'NC_026601.1', 'NC_026598.1', 'NC_026596.1', 'NC_026595.1', 'NC_026610.2', 'NC_026603.1', 'NC_026585.1', 'NC_026584.1', 'NC_026590.1', 'NC_026605.1', 'NC_026609.1', 'NC_026591.1', 'NC_026597.1', 'NC_027120.1', 'NC_021190.1', 'NC_027294.1', 'NC_027295.1', 'NC_027298.1', 'NC_027383.1', 'NC_027341.1', 'NC_027384.1', 'NC_027346.1', 'NC_027389.1', 'NC_027359.1', 'NC_027400.1', 'NC_027336.1', 'NC_027354.1', 'NC_027367.1', 'NC_027401.1', 'NC_027333.1', 'NC_027391.1', 'NC_027396.1', 'NC_027358.1', 'NC_027365.1', 'NC_027386.1', 'NC_027385.1', 'NC_027373.1', 'NC_027371.1', 'NC_027377.1', 'NC_027370.1', 'NC_027362.1', 'NC_027361.1', 'NC_027357.1', 'NC_027621.1', 'NC_027623.2', 'NC_027625.1', 'NC_027627.1', 'NC_027626.1', 'NC_027628.1', 'NC_027622.1', 'NC_027620.1', 'NC_027630.1', 'NC_027629.1', 'NC_027624.1', 'NC_008265.1', 'NC_018285.1', 'NC_018264.1', 'NC_027982.1', 'NC_027994.1', 'NC_027985.1', 'NC_027993.1', 'NC_027987.1', 'NC_028680.1', 'NC_028691.1', 'NC_028682.1', 'NC_028657.1', 'NC_028698.1', 'NC_028674.1', 'NC_028678.1', 'NC_028697.1', 'NC_028692.1', 'NC_028665.1', 'NC_028673.1', 'NC_028690.1', 'NC_028667.1', 'NC_028662.1', 'NC_028700.1', 'NC_028654.1', 'NC_028668.1', 'NC_028658.1', 'NC_028681.1', 'NC_028666.1', 'NC_028677.1', 'NC_028669.1', 'NC_028653.1', 'NC_028694.1', 'NC_028689.1', 'NC_028687.1', 'NC_028695.2', 'NC_028744.1', 'NC_028742.1', 'NC_028743.1', 'NC_028749.1', 'NC_028832.1', 'NC_028785.1', 'NC_028976.1', 'NC_028860.1', 'NC_028924.1', 'NC_028928.1', 'NC_028934.1', 'NC_028865.1', 'NC_028974.1', 'NC_029024.1', 'NC_028864.1', 'NC_029005.2', 'NC_028901.1', 'NC_028804.1', 'NC_028852.1', 'NC_028757.1', 'NC_028937.1', 'NC_028922.1', 'NC_028849.1', 'NC_028837.1', 'NC_013152.1', 'NC_028913.1', 'NC_028900.1', 'NC_029019.1', 'NC_028776.1', 'NC_028746.1', 'NC_028748.2', 'NC_028823.1', 'NC_028876.2', 'NC_028904.1', 'NC_028954.1', 'NC_029030.1', 'NC_028846.1', 'NC_028861.1', 'NC_028767.1', 'NC_028972.1', 'NC_013155.1', 'NC_028990.1', 'NC_028831.1', 'NC_028815.1', 'NC_028862.1', 'NC_028751.1', 'NC_028747.1', 'NC_028920.1', 'NC_028923.1', 'NC_028892.1', 'NC_028827.1', 'NC_028802.1', 'NC_028792.1', 'NC_028763.1', 'NC_028791.1', 'NC_028796.1', 'NC_028966.1', 'NC_028851.1', 'NC_028818.1', 'NC_029025.1', 'NC_029016.1', 'NC_028889.1', 'NC_028859.1', 'NC_029028.1', 'NC_028917.1', 'NC_028835.1', 'NC_028759.1', 'NC_028874.1', 'NC_028932.1', 'NC_028778.1', 'NC_028784.1', 'NC_028844.1', 'NC_028952.1', 'NC_028768.1', 'NC_028912.1', 'NC_028770.1', 'NC_028801.1', 'NC_028853.1', 'NC_028877.1', 'NC_028958.1', 'NC_028819.1', 'NC_029021.1', 'NC_028830.1', 'NC_028821.1', 'NC_028960.2', 'NC_028910.1', 'NC_028843.1', 'NC_028810.1', 'NC_028946.1', 'NC_028805.1', 'NC_028854.1', 'NC_028834.1', 'NC_028914.1', 'NC_029010.1', 'NC_028931.1', 'NC_028906.1', 'NC_028978.1', 'NC_028905.1', 'NC_029033.1', 'NC_028915.1', 'NC_028997.1', 'NC_028984.1', 'NC_028775.1', 'NC_028911.1', 'NC_028888.1', 'NC_028878.1', 'NC_028930.1', 'NC_028941.1', 'NC_028813.1', 'NC_028936.1', 'NC_028965.1', 'NC_028968.1', 'NC_028807.1', 'NC_028947.1', 'NC_028929.1', 'NC_028788.1', 'NC_028979.1', 'NC_028809.1', 'NC_017688.1', 'NC_028942.1', 'NC_028812.1', 'NC_028842.1', 'NC_029006.1', 'NC_028803.1', 'NC_028783.1', 'NC_028980.1', 'NC_028826.1', 'NC_028828.1', 'NC_028961.1', 'NC_028897.1', 'NC_028967.1', 'NC_028871.1', 'NC_028758.1', 'NC_028798.1', 'NC_028794.1', 'NC_029018.2', 'NC_028879.1', 'NC_028907.1', 'NC_028956.1', 'NC_028953.1', 'NC_028779.1', 'NC_029043.2', 'NC_029045.1', 'NC_029047.1', 'NC_029046.1', 'NC_029100.1', 'NC_029079.1', 'NC_029074.1', 'NC_029073.1', 'NC_029098.1', 'NC_029118.1', 'NC_029066.1', 'NC_029097.1', 'NC_029093.1', 'NC_029060.1', 'NC_029077.1', 'NC_029106.1', 'NC_029078.1', 'NC_029107.1', 'NC_029119.1', 'NC_029075.1', 'NC_029068.1', 'NC_029084.1', 'NC_029059.1', 'NC_030652.1', 'NC_030698.1', 'NC_030696.1', 'NC_030694.1', 'NC_030695.1', 'NC_030917.1', 'NC_030944.1', 'NC_030930.1', 'NC_030908.1', 'NC_030946.1', 'NC_030939.1', 'NC_030911.1', 'NC_030915.1', 'NC_030914.1', 'NC_030942.1', 'NC_030918.1', 'NC_030904.1', 'NC_030907.1', 'NC_030932.1', 'NC_030913.1', 'NC_030927.1', 'NC_030912.1', 'NC_030901.1', 'NC_030936.1', 'NC_030935.1', 'NC_030905.1', 'NC_030931.1', 'NC_030924.1', 'NC_030941.1', 'NC_030943.1', 'NC_030909.1', 'NC_030929.1', 'NC_030916.1', 'NC_030902.1', 'NC_030921.1', 'NC_031031.1', 'NC_031099.1', 'NC_031118.1', 'NC_031023.1', 'NC_031003.1', 'NC_031059.1', 'NC_031013.1', 'NC_031098.1', 'NC_031067.1', 'NC_031044.1', 'NC_031071.1', 'NC_031052.1', 'NC_031051.1', 'NC_031004.1', 'NC_031028.1', 'NC_031072.1', 'NC_031094.1', 'NC_031119.1', 'NC_031102.1', 'NC_031064.1', 'NC_031016.1', 'NC_031002.1', 'NC_031058.1', 'NC_031035.1', 'NC_031001.1', 'NC_031125.1', 'NC_031060.1', 'NC_031029.1', 'NC_031005.2', 'NC_031124.1', 'NC_031040.1', 'NC_031076.1', 'NC_031061.1', 'NC_031041.1', 'NC_031009.1', 'NC_031097.1', 'NC_031081.1', 'NC_031091.1', 'NC_031036.1', 'NC_031109.1', 'NC_031122.1', 'NC_031074.1', 'NC_031069.1', 'NC_031084.1', 'NC_031078.1', 'NC_031017.1', 'NC_031108.1', 'NC_031112.1', 'NC_031111.1', 'NC_031075.1', 'NC_031101.1', 'NC_031113.1', 'NC_031055.1', 'NC_031226.1', 'NC_031264.1', 'NC_031228.1', 'NC_031230.1', 'NC_031251.1', 'NC_031233.1', 'NC_031247.1', 'NC_031277.1', 'NC_031253.1', 'NC_031224.2', 'NC_031260.1', 'NC_031269.1', 'NC_031255.2', 'NC_031229.1', 'NC_031266.1', 'NC_031256.1', 'NC_031238.1', 'NC_031279.1', 'NC_031263.1', 'NC_031249.1', 'NC_031267.1', 'NC_031234.1', 'NC_031281.1', 'NC_031257.1', 'NC_031231.1', 'NC_031241.1', 'NC_031261.1', 'NC_031239.1', 'NC_031237.1', 'NC_031265.1', 'NC_031243.1', 'NC_031262.1', 'NC_031254.1', 'NC_031923.1', 'NC_031926.1', 'NC_031913.1', 'NC_031905.1', 'NC_031919.1', 'NC_031942.1', 'NC_031938.1', 'NC_031918.1', 'NC_031930.1', 'NC_031925.1', 'NC_031929.1', 'NC_031920.1', 'NC_031917.1', 'NC_031921.1', 'NC_031924.1', 'NC_031910.1', 'NC_031936.1', 'NC_031911.1', 'NC_031945.1', 'NC_031907.1', 'NC_031941.1', 'NC_031932.1', 'NC_031901.1', 'NC_031915.1', 'NC_031021.1', 'NC_034248.1', 'NC_027378.1', 'NC_028856.1', 'NC_028777.1', 'NC_027992.1', 'NC_030950.1', 'NC_029008.1', 'NC_030949.1', 'NC_027986.1', 'NC_028886.1', 'NC_029048.2', 'NC_049943.1', 'NC_048632.1', 'NC_042327.1', 'NC_042328.1', 'NC_041844.1', 'NC_042316.1', 'NC_041846.1', 'NC_042317.1', 'NC_042318.1', 'NC_042319.1', 'NC_042320.1', 'NC_042326.1', 'NC_042321.1', 'NC_042322.1', 'NC_042323.1', 'NC_042324.1', 'NC_042325.1', 'NC_042329.1', 'NC_041847.1', 'NC_042330.1', 'NC_042331.1', 'NC_042332.1', 'NC_042333.1', 'NC_041849.1', 'NC_041850.1', 'NC_042334.1', 'NC_023745.1', 'NC_041851.1', 'NC_042336.1', 'NC_042335.1', 'NC_017695.1', 'NC_017702.1', 'NC_017698.1', 'NC_017696.1', 'NC_041852.1', 'NC_042338.1', 'NC_042339.1', 'NC_042340.1', 'NC_041853.1', 'NC_047739.1', 'NC_041855.1', 'NC_042341.1', 'NC_049941.1', 'NC_049945.1', 'NC_049944.1', 'NC_041856.1', 'NC_041858.1', 'NC_041859.1', 'NC_041860.1', 'NC_022064.1', 'NC_042345.1', 'NC_042344.1', 'NC_041861.1', 'NC_021315.1', 'NC_041866.1', 'NC_041867.1', 'NC_041868.1', 'NC_042337.1', 'NC_047756.1', 'NC_047757.1', 'NC_048634.1', 'NC_048635.1', 'NC_047760.1', 'NC_041876.1', 'NC_041877.1', 'NC_048637.1', 'NC_041879.1', 'NC_047763.1', 'NC_041882.1', 'NC_041883.1', 'NC_048636.1', 'NC_047764.1', 'NC_048641.1', 'NC_048640.1', 'NC_049810.1', 'NC_049811.1', 'NC_048667.1', 'NC_041886.1', 'NC_041887.1', 'NC_041888.1', 'NC_041889.1', 'NC_041890.1', 'NC_041891.1', 'NC_041892.1', 'NC_041893.1', 'NC_041894.1', 'NC_041895.1', 'NC_041897.1', 'NC_041898.1', 'NC_047786.1', 'NC_053002.1', 'NC_047792.1', 'NC_047793.1', 'NC_047794.1', 'NC_047795.1', 'NC_041909.1', 'NC_041910.1', 'NC_041913.1', 'NC_048644.1', 'NC_052968.1', 'NC_041921.1', 'NC_049854.1', 'NC_049856.1', 'NC_049807.1', 'NC_049806.1', 'NC_049855.1', 'NC_048657.1', 'NC_048658.1', 'NC_041925.1', 'NC_041927.1', 'NC_041934.1', 'NC_041938.1', 'NC_041939.1', 'NC_041940.1', 'NC_041941.1', 'NC_041942.1', 'NC_041943.1', 'NC_041944.1', 'NC_041945.1', 'NC_041946.1', 'NC_041947.1', 'NC_041948.1', 'NC_041949.1', 'NC_041950.1', 'NC_041951.1', 'NC_041952.1', 'NC_041953.1', 'NC_041954.1', 'NC_022339.1', 'NC_027380.1', 'NC_041955.1', 'NC_027403.1', 'NC_041956.1', 'NC_027347.1', 'NC_041957.1', 'NC_027405.1', 'NC_027392.1', 'NC_027376.1', 'NC_041958.1', 'NC_041959.1', 'NC_041960.1', 'NC_041961.1', 'NC_041962.1', 'NC_041963.1', 'NC_041965.1', 'NC_041969.1', 'NC_041970.1', 'NC_041971.1', 'NC_041982.1', 'NC_041983.1', 'NC_041984.1', 'NC_043767.1', 'NC_041985.1', 'NC_041986.1', 'NC_041987.1', 'NC_041988.1', 'NC_041989.1', 'NC_041991.1', 'NC_041992.1', 'NC_048669.1', 'NC_042001.1', 'NC_042002.1', 'NC_042008.1', 'NC_042009.1', 'NC_042010.1', 'NC_042011.1', 'NC_042012.1', 'NC_048670.1', 'NC_052988.1', 'NC_042016.1', 'NC_052975.1', 'NC_047851.1', 'NC_042021.1', 'NC_042022.1', 'NC_042023.1', 'NC_042024.1', 'NC_042025.1', 'NC_042027.1', 'NC_013153.1', 'NC_013154.1', 'NC_048624.1', 'NC_042029.1', 'NC_042308.1', 'NC_042312.1', 'NC_042309.1', 'NC_042313.1', 'NC_042314.1', 'NC_042315.1', 'NC_042030.1', 'NC_042031.1', 'NC_049942.1', 'NC_042032.1', 'NC_042033.1', 'NC_042034.1', 'NC_042035.1', 'NC_042036.1', 'NC_042310.1', 'NC_042037.1', 'NC_042040.1', 'NC_042042.1', 'NC_048680.1', 'NC_042045.1', 'NC_042049.1', 'NC_042050.1', 'NC_042051.1', 'NC_042052.1', 'NC_042055.1', 'NC_005259.1', 'NC_049809.1', 'NC_042057.1', 'NC_042058.1', 'NC_042065.1', 'NC_042311.1', 'NC_048631.1', 'NC_047876.1', 'NC_047877.1', 'NC_047878.1', 'NC_047879.1', 'NC_042082.1', 'NC_042084.1', 'NC_047891.1', 'NC_047892.1', 'NC_042085.1', 'NC_042086.1', 'NC_042087.1', 'NC_042088.1', 'NC_042089.1', 'NC_052981.1', 'NC_042091.1', 'NC_047897.1', 'NC_047902.1', 'NC_047904.1', 'NC_047905.1', 'NC_047906.1', 'NC_048681.1', 'NC_042099.1', 'NC_047912.1', 'NC_047916.1', 'NC_048688.1', 'NC_048692.1', 'NC_048693.1', 'NC_048689.1', 'NC_048690.1', 'NC_048691.1', 'NC_042101.1', 'NC_047918.1', 'NC_048698.1', 'NC_047921.1', 'NC_048207.1', 'NC_042102.1', 'NC_052987.1', 'NC_048695.1', 'NC_048696.1', 'NC_042105.1', 'NC_042106.1', 'NC_047925.1', 'NC_042108.1', 'NC_042109.1', 'NC_042110.1', 'NC_042111.1', 'NC_042115.1', 'NC_048655.1', 'NC_042349.1', 'NC_042350.1', 'NC_047931.1', 'NC_042117.1', 'NC_042118.1', 'NC_042119.1', 'NC_042120.1', 'NC_042354.1', 'NC_042355.1', 'NC_042123.1', 'NC_048701.1', 'NC_048625.1', 'NC_048628.1', 'NC_042125.1', 'NC_048705.1', 'NC_042126.1', 'NC_042127.1', 'NC_047972.1', 'NC_047973.1', 'NC_047974.1', 'NC_042132.1', 'NC_047975.1', 'NC_047976.1', 'NC_047977.1', 'NC_052976.1', 'NC_047986.1', 'NC_047987.1', 'NC_047988.1', 'NC_047989.1', 'NC_047990.1', 'NC_048708.1', 'NC_047991.1', 'NC_047992.1', 'NC_047993.1', 'NC_052972.1', 'NC_052970.1', 'NC_052971.1', 'NC_052969.1', 'NC_042351.1', 'NC_042352.1', 'NC_042353.1', 'NC_048633.1', 'NC_042134.1', 'NC_042135.1', 'NC_042348.1', 'NC_048719.1', 'NC_048017.1', 'NC_048018.1', 'NC_048720.1', 'NC_048019.1', 'NC_048721.1', 'NC_048722.1', 'NC_048723.1', 'NC_048724.1', 'NC_048020.1', 'NC_048021.1', 'NC_048022.1', 'NC_048710.1', 'NC_048713.1', 'NC_048714.1', 'NC_048715.1', 'NC_048716.1', 'NC_048717.1', 'NC_048718.1', 'NC_048027.1', 'NC_048028.1', 'NC_049951.1', 'NC_048725.1', 'NC_048038.1', 'NC_048728.1', 'NC_048039.1', 'NC_048040.1', 'NC_048729.1', 'NC_048045.1', 'NC_048046.1', 'NC_048047.1', 'NC_048048.1', 'NC_048727.1', 'NC_048711.1', 'NC_048068.1', 'NC_048069.1', 'NC_048730.1', 'NC_048070.1', 'NC_048072.1', 'NC_048083.1', 'NC_048732.1', 'NC_048090.1', 'NC_048091.1', 'NC_048092.1', 'NC_048093.1', 'NC_048094.1', 'NC_048734.1', 'NC_048095.1', 'NC_048096.1', 'NC_048097.1', 'NC_048098.1', 'NC_048099.1', 'NC_048100.1', 'NC_048101.1', 'NC_048737.1', 'NC_048104.1', 'NC_048683.1', 'NC_048115.1', 'NC_048139.1', 'NC_048140.1', 'NC_048743.1', 'NC_048141.1', 'NC_048742.1', 'NC_048144.1', 'NC_052990.1', 'NC_048749.1', 'NC_048750.1', 'NC_048146.1', 'NC_053000.1', 'NC_053001.1', 'NC_048152.1', 'NC_048153.1', 'NC_048154.1', 'NC_048155.1', 'NC_048746.1', 'NC_048165.1', 'NC_048166.1', 'NC_049805.1', 'NC_048169.1', 'NC_048176.1', 'NC_048181.1', 'NC_048185.1', 'NC_048762.1', 'NC_048192.1', 'NC_048757.1', 'NC_048756.1', 'NC_048197.1', 'NC_048198.1', 'NC_048768.1', 'NC_048787.1', 'NC_048789.1', 'NC_048790.1', 'NC_048788.1', 'NC_052985.1', 'NC_048793.1', 'NC_048780.1', 'NC_048791.1', 'NC_048782.1', 'NC_048783.1', 'NC_048784.1', 'NC_048805.1', 'NC_053011.1', 'NC_048810.1', 'NC_048648.1', 'NC_052997.1', 'NC_048812.1', 'NC_048814.1', 'NC_048815.1', 'NC_048813.1', 'NC_052984.1', 'NC_048816.1', 'NC_048817.1', 'NC_053012.1', 'NC_049808.1', 'NC_053014.1', 'NC_052977.1', 'NC_048820.1', 'NC_049812.1', 'NC_049857.1', 'NC_048822.1', 'NC_048823.1', 'NC_048824.1', 'NC_048825.1', 'NC_048826.1', 'NC_052998.1', 'NC_048831.1', 'NC_048832.1', 'NC_048833.1', 'NC_048834.1', 'NC_048835.1', 'NC_048836.1', 'NC_048837.1', 'NC_048838.1', 'NC_048839.1', 'NC_048840.1', 'NC_048841.1', 'NC_048842.1', 'NC_048843.1', 'NC_048844.1', 'NC_053015.1', 'NC_052982.1', 'NC_048848.1', 'NC_053013.1', 'NC_048850.1', 'NC_048851.1', 'NC_048876.1', 'NC_052989.1', 'NC_048878.1', 'NC_053008.1', 'NC_053009.1', 'NC_053010.1', 'NC_053004.1', 'NC_052979.1', 'NC_053003.1', 'NC_052994.1', 'NC_052995.1', 'NC_052996.1', 'NC_052993.1', 'NC_052999.1', 'NC_053006.1', 'NC_053007.1', 'NC_042137.1'])"
      ]
     },
     "execution_count": 80,
     "metadata": {},
     "output_type": "execute_result"
    }
   ],
   "source": [
    "genes.keys()"
   ]
  },
  {
   "cell_type": "code",
   "execution_count": 81,
   "id": "58eb541e",
   "metadata": {},
   "outputs": [
    {
     "data": {
      "text/plain": [
       ">NC_013153.1:2-123\n",
       "CCGGCCGCGCCCCGCCGCGGGCCGCAAAAAGGCGCTTTTTGCCGCAAAATCTCGCAAAATCTCGCAAAATCTCGCCAAATCTCGCCAAATCTCGCCAAATCTCGCTAAAACTTTGCTAAATT"
      ]
     },
     "execution_count": 81,
     "metadata": {},
     "output_type": "execute_result"
    }
   ],
   "source": [
    "genes['NC_013153.1'][1:123]"
   ]
  },
  {
   "cell_type": "code",
   "execution_count": null,
   "id": "6c0460f1",
   "metadata": {},
   "outputs": [],
   "source": [
    "for records in genes:\n",
    "    print(records.long_name)"
   ]
  },
  {
   "cell_type": "code",
   "execution_count": null,
   "id": "13589e5b",
   "metadata": {
    "scrolled": true
   },
   "outputs": [],
   "source": [
    "for line in genes['NC_002166.1']:\n",
    "    print(line)"
   ]
  },
  {
   "cell_type": "code",
   "execution_count": 82,
   "id": "b08c2452",
   "metadata": {},
   "outputs": [
    {
     "data": {
      "text/plain": [
       "40751"
      ]
     },
     "execution_count": 82,
     "metadata": {},
     "output_type": "execute_result"
    }
   ],
   "source": [
    "len(genes['NC_002166.1'])"
   ]
  }
 ],
 "metadata": {
  "kernelspec": {
   "display_name": "Python 3",
   "language": "python",
   "name": "python3"
  },
  "language_info": {
   "codemirror_mode": {
    "name": "ipython",
    "version": 3
   },
   "file_extension": ".py",
   "mimetype": "text/x-python",
   "name": "python",
   "nbconvert_exporter": "python",
   "pygments_lexer": "ipython3",
   "version": "3.8.5"
  }
 },
 "nbformat": 4,
 "nbformat_minor": 5
}
