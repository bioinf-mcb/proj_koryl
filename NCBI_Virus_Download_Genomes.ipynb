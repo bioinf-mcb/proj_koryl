{
 "cells": [
  {
   "cell_type": "markdown",
   "id": "7d5fd33b",
   "metadata": {},
   "source": [
    "# Download Bacteriophages genomes from FTP site with Accession from NCBI Virus"
   ]
  },
  {
   "cell_type": "code",
   "execution_count": null,
   "id": "c935fa92",
   "metadata": {},
   "outputs": [],
   "source": [
    "## IMPORT ##\n",
    "import pandas as pd\n",
    "from pandas import read_csv\n",
    "import urllib.request\n",
    "import time\n",
    "import os\n",
    "from datetime import date\n",
    "from pyfaidx import Fasta"
   ]
  },
  {
   "cell_type": "markdown",
   "id": "72b34bde",
   "metadata": {},
   "source": [
    "Firstly, download RefSeq Genomes from NCBI Virus as csv format from https://www.ncbi.nlm.nih.gov/labs/virus/vssi/#/virus?SeqType_s=Nucleotide&VirusLineage_ss=Bacteriophage,%20all%20taxids and then read the dataframe."
   ]
  },
  {
   "cell_type": "code",
   "execution_count": null,
   "id": "c0800403",
   "metadata": {
    "scrolled": true
   },
   "outputs": [],
   "source": [
    "seq = pd.read_csv('sequences.csv') #sequences from NCBI Virus -> assemblies"
   ]
  },
  {
   "cell_type": "markdown",
   "id": "5a8eeb79",
   "metadata": {},
   "source": [
    "Filtr genomes and create list of genomes you want download"
   ]
  },
  {
   "cell_type": "code",
   "execution_count": null,
   "id": "0267a5bd",
   "metadata": {},
   "outputs": [],
   "source": [
    "#new dataframe with individual columns\n",
    "new_seq = seq[['Assembly', 'Species', 'Molecule_type', 'Family', 'Host', 'GenBank_Title']].copy()\n",
    "\n",
    "#sorting values by Host and Family\n",
    "new_seq.sort_values(by=['Host', 'Family'])\n",
    "\n",
    "#searching Family Siphoviridae which Host is Lactococcus lactis\n",
    "siphoviridae = new_seq.loc [(new_seq['Family'] == 'Siphoviridae') & (new_seq['Host'] == 'Lactococcus lactis')] \n",
    "\n",
    "#Family Siphoviridae|Lactococcus Lactis Host assemblies -> make list \n",
    "asb = siphoviridae[\"Assembly\"].tolist()"
   ]
  },
  {
   "cell_type": "code",
   "execution_count": null,
   "id": "a183c264",
   "metadata": {},
   "outputs": [],
   "source": [
    "siphovir_loc = seq.loc[seq['Family'] == 'Siphoviridae']\n",
    "sipho_list = siphovir_loc[\"Assembly\"].tolist() #make a list of bacteriophages of interest"
   ]
  },
  {
   "cell_type": "code",
   "execution_count": null,
   "id": "f4bc0a78",
   "metadata": {},
   "outputs": [],
   "source": [
    "sipho_list[0:25]"
   ]
  },
  {
   "cell_type": "code",
   "execution_count": null,
   "id": "55965bba",
   "metadata": {},
   "outputs": [],
   "source": [
    "len(sipho_list)"
   ]
  },
  {
   "cell_type": "code",
   "execution_count": null,
   "id": "cd75347d",
   "metadata": {
    "scrolled": false
   },
   "outputs": [],
   "source": [
    "asb[0:25]"
   ]
  },
  {
   "cell_type": "markdown",
   "id": "4c6a7c73",
   "metadata": {},
   "source": [
    "Download assembly_summary_refseq txt file to get the path from specific assemblies"
   ]
  },
  {
   "cell_type": "code",
   "execution_count": null,
   "id": "1c74de6f",
   "metadata": {},
   "outputs": [],
   "source": [
    "urllib.request.urlretrieve(\"https://ftp.ncbi.nlm.nih.gov/genomes/refseq/assembly_summary_refseq.txt\", \"assembly_summary_refseq.txt\")"
   ]
  },
  {
   "cell_type": "code",
   "execution_count": null,
   "id": "64f6c788",
   "metadata": {},
   "outputs": [],
   "source": [
    "def get_assemblies(phages_list, path):\n",
    "    '''\n",
    "    This function download genomes from flirting list of Bacteriophages to concrete path\n",
    "    '''\n",
    "    #import assembly_summary_refseq file to dataframe\n",
    "    assembly_sum = pd.read_csv('/home/amanda/assembly_summary_refseq.txt', sep='\\t', skiprows=1) \n",
    "    #names of columns\n",
    "    assembly_sum.columns = [\n",
    "        'assembly_accession',\n",
    "        'bioproject','biosample',\n",
    "        'wgs_master','refseq_category',\n",
    "        'taxid','species_taxid','organism_name',\n",
    "        'infraspecific_name','isolate','version_status',\n",
    "        'assembly_level','release_type','genome_rep',\n",
    "        'seq_rel_date','asm_name','submitter','gbrs_paired_asm',\n",
    "        'paired_asm_comp','ftp_path','excluded_from_refseq',\n",
    "        'relation_to_type_material','asm_not_live_date'\n",
    "    ]\n",
    "\n",
    "    for assembly in phages_list:\n",
    "        # searching specific genomes from list\n",
    "        my_df = assembly_sum[(assembly_sum['assembly_accession'] == assembly)]\n",
    "        #Process the newly created file and download genomes from NCBI website\n",
    "        ftp = my_df['ftp_path'].tolist() #making ftp list --> path to download genomes\n",
    "        asm = my_df['asm_name'].to_list() #making asm list --> asm necessary as part of suffix\n",
    "\n",
    "        for elem in ftp:\n",
    "            for i in asm:\n",
    "                file_in = assembly + '.fna.gz' #gzip format\n",
    "                fullfilename = os.path.join(path, file_in) #directory and file name\n",
    "                file_suffix=elem+'/'+assembly+'_'+i+'_genomic.fna.gz'\n",
    "                try:   \n",
    "                    if os.path.isfile(fullfilename): #if genome is in directory, skip it and continue the rest of them\n",
    "                        print(file_in, \" already exist\")\n",
    "                        continue\n",
    "                    else:\n",
    "                        response = urllib.request.urlretrieve(file_suffix, fullfilename) #download genomes\n",
    "                        print(\"Download:\", file_in)\n",
    "                        time.sleep(1)\n",
    "\n",
    "                except:        \n",
    "                    print(\"Skipping\", file_in, \" - doesn't exist.\") #If there is an error or the ftp server doesn't have the genome, skip it\n"
   ]
  },
  {
   "cell_type": "code",
   "execution_count": null,
   "id": "6f918728",
   "metadata": {},
   "outputs": [],
   "source": [
    "def folder(parent_dir, folder_name):\n",
    "    '''\n",
    "    This function create new folder in directory\n",
    "    '''\n",
    "    path = os.path.join(parent_dir, folder_name)\n",
    "    os.mkdir(path)\n",
    "    print(\"Directory '% s' created\" % folder_name)\n",
    "    "
   ]
  },
  {
   "cell_type": "code",
   "execution_count": null,
   "id": "c7ce1232",
   "metadata": {},
   "outputs": [],
   "source": [
    "folder('/home/amanda/Bacteriophages','Siphoviridae')"
   ]
  },
  {
   "cell_type": "code",
   "execution_count": null,
   "id": "c2615d14",
   "metadata": {},
   "outputs": [],
   "source": [
    "path = '/home/amanda/Bacteriophages/Siphoviridae' "
   ]
  },
  {
   "cell_type": "code",
   "execution_count": null,
   "id": "f1bd4767",
   "metadata": {},
   "outputs": [],
   "source": [
    "get_assemblies(sipho_list, path)"
   ]
  },
  {
   "cell_type": "code",
   "execution_count": null,
   "id": "567d4222",
   "metadata": {},
   "outputs": [],
   "source": [
    "def inventory(path):\n",
    "    '''\n",
    "    This function create inventory txt file with date of downloading\n",
    "\n",
    "    '''\n",
    "    current_time = str(date.today())\n",
    "    with open(os.path.join(path, \"inventory.txt\"), \"w\") as f:\n",
    "        for path, subdirs, files in os.walk(path):\n",
    "            for filenames in files:\n",
    "                if filenames == 'inventory.txt':\n",
    "                    continue\n",
    "                else:\n",
    "                    f.write(filenames + '\\t' + current_time + '\\n')\n",
    "\n",
    "            "
   ]
  },
  {
   "cell_type": "markdown",
   "id": "e6e3d6db",
   "metadata": {},
   "source": [
    "\n",
    "### Create one file for all downloading genomes with samtools"
   ]
  },
  {
   "cell_type": "markdown",
   "id": "2425d6d2",
   "metadata": {},
   "source": [
    "Change the directory to create one compressed fasta file and *.fai file by which samtools can quickly access any region of the genome."
   ]
  },
  {
   "cell_type": "code",
   "execution_count": null,
   "id": "d327cbf9",
   "metadata": {},
   "outputs": [],
   "source": [
    "os.chdir(path)\n",
    "print(\"Current Working Directory: \" , os.getcwd())"
   ]
  },
  {
   "cell_type": "code",
   "execution_count": null,
   "id": "43a768ff",
   "metadata": {},
   "outputs": [],
   "source": [
    "%%bash\n",
    "gunzip GCF*.fna.gz\n",
    "cat GCF*.fna>> genomy.fasta\n",
    "rm GCF*.fna\n",
    "bgzip -c genomy.fasta >> genomy.fasta.bgzf\n",
    "samtools faidx genomy.fasta"
   ]
  },
  {
   "cell_type": "code",
   "execution_count": null,
   "id": "80203505",
   "metadata": {},
   "outputs": [],
   "source": [
    "inventory(path)"
   ]
  },
  {
   "cell_type": "code",
   "execution_count": null,
   "id": "08621344",
   "metadata": {},
   "outputs": [],
   "source": [
    "%%bash\n",
    "samtools faidx genomy.fasta.bgzf NC_001706.1:1-1234"
   ]
  },
  {
   "cell_type": "markdown",
   "id": "aa59090b",
   "metadata": {},
   "source": [
    "\n",
    "**For each row in *.fai:**\n",
    "\n",
    "- Column 1: Accession\n",
    "\n",
    "- Column 2: The number of bases in the genome\n",
    "\n",
    "- Column 3: The byte index of the file where the genome sequence begins. (Notice how it constantly increases by roughly the amount in column 2?)\n",
    "\n",
    "- Column 4: bases per line in the FASTA file\n",
    "\n",
    "- Column 5: bytes per line in the FASTA file\n"
   ]
  },
  {
   "cell_type": "code",
   "execution_count": null,
   "id": "505bd09f",
   "metadata": {
    "scrolled": true
   },
   "outputs": [],
   "source": [
    "%%bash\n",
    "\n",
    "awk 'OFS=\"\\t\" {print $1,$2,$3, $4, $5}' genomy.fasta.bgzf.fai"
   ]
  },
  {
   "cell_type": "code",
   "execution_count": null,
   "id": "28c4e373",
   "metadata": {},
   "outputs": [],
   "source": [
    "%%bash\n",
    "cut -f1-2 genomy.fasta.bgzf.fai #only the number of bases in genomes"
   ]
  },
  {
   "cell_type": "markdown",
   "id": "031c46a7",
   "metadata": {},
   "source": [
    "### Pyfaidx to get access to any subsequence from file\n",
    "\n",
    "more about pyfaidx:\n",
    "https://pypi.org/project/pyfaidx/"
   ]
  },
  {
   "cell_type": "code",
   "execution_count": null,
   "id": "4a5285aa",
   "metadata": {},
   "outputs": [],
   "source": [
    "genes = Fasta('/home/amanda/Bacteriophages/Siphoviridae/genomy.fasta')"
   ]
  },
  {
   "cell_type": "code",
   "execution_count": null,
   "id": "6084c2be",
   "metadata": {},
   "outputs": [],
   "source": [
    "genes.keys()"
   ]
  },
  {
   "cell_type": "code",
   "execution_count": null,
   "id": "58eb541e",
   "metadata": {},
   "outputs": [],
   "source": [
    "genes['NC_013153.1'][1:2341]"
   ]
  },
  {
   "cell_type": "code",
   "execution_count": null,
   "id": "6c0460f1",
   "metadata": {},
   "outputs": [],
   "source": [
    "for records in genes:\n",
    "    print(records.long_name)"
   ]
  },
  {
   "cell_type": "code",
   "execution_count": null,
   "id": "13589e5b",
   "metadata": {
    "scrolled": true
   },
   "outputs": [],
   "source": [
    "for line in genes['NC_002166.1']:\n",
    "    print(line)"
   ]
  },
  {
   "cell_type": "code",
   "execution_count": null,
   "id": "b08c2452",
   "metadata": {},
   "outputs": [],
   "source": [
    "len(genes['NC_002166.1'])"
   ]
  }
 ],
 "metadata": {
  "kernelspec": {
   "display_name": "Python 3",
   "language": "python",
   "name": "python3"
  },
  "language_info": {
   "codemirror_mode": {
    "name": "ipython",
    "version": 3
   },
   "file_extension": ".py",
   "mimetype": "text/x-python",
   "name": "python",
   "nbconvert_exporter": "python",
   "pygments_lexer": "ipython3",
   "version": "3.8.5"
  }
 },
 "nbformat": 4,
 "nbformat_minor": 5
}
