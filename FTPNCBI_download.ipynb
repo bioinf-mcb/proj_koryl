{
 "cells": [
  {
   "cell_type": "markdown",
   "metadata": {
    "scrolled": false
   },
   "source": [
    "# Download specific genomes from NCBI FTP Site"
   ]
  },
  {
   "cell_type": "code",
   "execution_count": 42,
   "metadata": {},
   "outputs": [],
   "source": [
    "## IMPORT ##\n",
    "import pandas as pd\n",
    "from pandas import read_csv\n",
    "import urllib.request\n",
    "import time\n",
    "import gzip\n",
    "import shutil"
   ]
  },
  {
   "cell_type": "code",
   "execution_count": 43,
   "metadata": {},
   "outputs": [],
   "source": [
    "seq = pd.read_csv('sequences.csv') #sequences from NCBI Virus -> assemblies"
   ]
  },
  {
   "cell_type": "code",
   "execution_count": 44,
   "metadata": {},
   "outputs": [],
   "source": [
    "#new dataframe with individual columns\n",
    "new_seq = seq[['Assembly', 'Species', 'Molecule_type', 'Family', 'Host', 'GenBank_Title']].copy()\n",
    "\n",
    "#sorting values by Host and Family\n",
    "new_seq.sort_values(by=['Host', 'Family'])\n",
    "\n",
    "#searching Family Siphoviridae which Host is Lactococcus lactis\n",
    "siphoviridae = new_seq.loc [(new_seq['Family'] == 'Siphoviridae') & (new_seq['Host'] == 'Lactococcus lactis')] \n",
    "\n",
    "#Family Siphoviridae|Lactococcus Lactis Host assemblies -> making list \n",
    "asb = siphoviridae[\"Assembly\"].tolist()"
   ]
  },
  {
   "cell_type": "code",
   "execution_count": null,
   "metadata": {},
   "outputs": [],
   "source": [
    "#download assembly_summary_refseq txt file to get the path from specific assemblies\n",
    "urllib.request.urlretrieve(\"https://ftp.ncbi.nlm.nih.gov/genomes/refseq/assembly_summary_refseq.txt\", \"assembly_summary_refseq.txt\")"
   ]
  },
  {
   "cell_type": "code",
   "execution_count": 47,
   "metadata": {},
   "outputs": [],
   "source": [
    "def get_assemblies(phages_list):\n",
    "    assembly_sum = pd.read_csv('assembly_summary_refseq.txt', sep='\\t', skiprows=1) #import assembly_summary_refseq file to dataframe\n",
    "    #names of columns\n",
    "    assembly_sum.columns = [\"assembly_accession\", \"bioproject\", \"biosample\", \"wgs_master\", \"refseq_category\", \"taxid\", \"species_taxid\", \"organism_name\", \"infraspecific_name\", \"isolate\", \"version_status\", \"assembly_level\", \"release_type\", \"genome_rep\", \"seq_rel_date\", \"asm_name\", \"submitter\", \"gbrs_paired_asm\", \"paired_asm_comp\", \"ftp_path\", \"excluded_from_refseq\", \"relation_to_type_material\"]\n",
    "\n",
    "    for assembly in phages_list:\n",
    "        # searching specific genomes\n",
    "        my_df = assembly_sum[(assembly_sum['assembly_accession'] == assembly)] #& [(assembly_sum['version_status'] == 'latest')] \n",
    "        my_df = my_df[['ftp_path','assembly_accession','asm_name']]\n",
    "\n",
    "        #Process the newly created file and download genomes from NCBI website\n",
    "        ftp = my_df['ftp_path'].tolist() #making ftp list\n",
    "        asm = my_df['asm_name'].to_list() #making asm list\n",
    "        for elem in ftp:\n",
    "            try: \n",
    "                file = str(assembly)\n",
    "                for i in asm:\n",
    "                    file_suffix='/'+assembly+'_'+i+'_genomic.fna.gz'\n",
    "                file_in = assembly + '.fna.gz'\n",
    "                file_out = assembly + '.fna' #fasta format\n",
    "                download = urllib.request.urlretrieve(elem+file_suffix, file_in)\n",
    "                print(\"Download:\", file_in)\n",
    "                time.sleep(1)\n",
    "            except:        \n",
    "                print(\"-I- Skipping\",file_in,\" - doesn't exist.\")\n",
    "            #unzip files \n",
    "            with gzip.open(file_in, 'rb') as f_in:\n",
    "                with open(file_out, 'wb') as f_out:\n",
    "                    shutil.copyfileobj(f_in, f_out)\n",
    "\n",
    "    return\n"
   ]
  },
  {
   "cell_type": "code",
   "execution_count": 48,
   "metadata": {},
   "outputs": [
    {
     "name": "stdout",
     "output_type": "stream",
     "text": [
      "Download: GCF_009685705.1.fna.gz\n",
      "Download: GCF_002620465.1.fna.gz\n",
      "Download: GCF_002620665.1.fna.gz\n",
      "Download: GCF_002620365.1.fna.gz\n",
      "Download: GCF_009685685.1.fna.gz\n",
      "Download: GCF_002611385.1.fna.gz\n",
      "Download: GCF_002611285.1.fna.gz\n",
      "Download: GCF_002758415.1.fna.gz\n",
      "Download: GCF_009662695.1.fna.gz\n",
      "Download: GCF_002620505.1.fna.gz\n",
      "Download: GCF_002620585.1.fna.gz\n",
      "Download: GCF_002602185.1.fna.gz\n",
      "Download: GCF_002602245.1.fna.gz\n",
      "Download: GCF_002602225.1.fna.gz\n",
      "Download: GCF_002602205.1.fna.gz\n",
      "Download: GCF_002630605.1.fna.gz\n",
      "Download: GCF_002630585.1.fna.gz\n",
      "Download: GCF_001746015.1.fna.gz\n",
      "Download: GCF_001745855.1.fna.gz\n",
      "Download: GCF_001745355.1.fna.gz\n",
      "Download: GCF_001745195.1.fna.gz\n",
      "Download: GCF_001744695.1.fna.gz\n",
      "Download: GCF_001744535.1.fna.gz\n",
      "Download: GCF_001744035.1.fna.gz\n",
      "Download: GCF_001744015.1.fna.gz\n",
      "Download: GCF_001743875.1.fna.gz\n",
      "Download: GCF_001505235.1.fna.gz\n",
      "Download: GCF_001502115.1.fna.gz\n",
      "Download: GCF_001501375.1.fna.gz\n",
      "Download: GCF_001501335.1.fna.gz\n",
      "Download: GCF_001041075.1.fna.gz\n",
      "Download: GCF_001015305.1.fna.gz\n",
      "Download: GCF_000923495.1.fna.gz\n",
      "Download: GCF_000922855.1.fna.gz\n",
      "Download: GCF_000920955.1.fna.gz\n",
      "Download: GCF_000920915.1.fna.gz\n",
      "Download: GCF_000916455.1.fna.gz\n",
      "Download: GCF_000910615.1.fna.gz\n",
      "Download: GCF_000890755.1.fna.gz\n",
      "Download: GCF_000882895.1.fna.gz\n",
      "Download: GCF_000879895.1.fna.gz\n",
      "Download: GCF_000870105.1.fna.gz\n",
      "Download: GCF_000870085.1.fna.gz\n",
      "Download: GCF_000868485.1.fna.gz\n",
      "Download: GCF_000859265.1.fna.gz\n",
      "Download: GCF_000843105.1.fna.gz\n",
      "Download: GCF_000841645.1.fna.gz\n",
      "Download: GCF_000840345.1.fna.gz\n",
      "Download: GCF_000838985.1.fna.gz\n",
      "Download: GCF_000838765.1.fna.gz\n",
      "Download: GCF_000838065.1.fna.gz\n",
      "Download: GCF_000837965.1.fna.gz\n",
      "Download: GCF_000837665.1.fna.gz\n"
     ]
    }
   ],
   "source": [
    "get_assemblies(asb)"
   ]
  }
 ],
 "metadata": {
  "kernelspec": {
   "display_name": "Python 3",
   "language": "python",
   "name": "python3"
  },
  "language_info": {
   "codemirror_mode": {
    "name": "ipython",
    "version": 3
   },
   "file_extension": ".py",
   "mimetype": "text/x-python",
   "name": "python",
   "nbconvert_exporter": "python",
   "pygments_lexer": "ipython3",
   "version": "3.8.3"
  }
 },
 "nbformat": 4,
 "nbformat_minor": 4
}
